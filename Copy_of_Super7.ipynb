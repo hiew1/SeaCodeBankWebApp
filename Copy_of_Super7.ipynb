{
  "cells": [
    {
      "cell_type": "markdown",
      "metadata": {
        "id": "view-in-github",
        "colab_type": "text"
      },
      "source": [
        "<a href=\"https://colab.research.google.com/github/hiew1/SeaCodeBankWebApp/blob/master/Copy_of_Super7.ipynb\" target=\"_parent\"><img src=\"https://colab.research.google.com/assets/colab-badge.svg\" alt=\"Open In Colab\"/></a>"
      ]
    },
    {
      "cell_type": "code",
      "execution_count": null,
      "id": "36d1b365-3d8a-459d-ad17-459e4b7b892d",
      "metadata": {
        "id": "36d1b365-3d8a-459d-ad17-459e4b7b892d"
      },
      "outputs": [],
      "source": [
        "import tensorflow as tf\n",
        "from tensorflow import keras\n",
        "\n",
        "(X_train, y_train), (X_test, y_test) = tf.keras.datasets.cifar10.load_data()"
      ]
    },
    {
      "cell_type": "code",
      "execution_count": null,
      "id": "19e84cb6-5fab-4038-93a8-2477f5301037",
      "metadata": {
        "id": "19e84cb6-5fab-4038-93a8-2477f5301037"
      },
      "outputs": [],
      "source": [
        "from keras.utils import to_categorical\n",
        "\n",
        "X_train = X_train.reshape(X_train.shape[0], 32, 32, 3)\n",
        "X_test = X_test.reshape(X_test.shape[0], 32, 32, 3)\n",
        "\n",
        "input_shape =(32, 32,3)\n",
        "\n",
        "# one hot encode target values\n",
        "y_train = to_categorical(y_train)\n",
        "y_test = to_categorical(y_test)\n",
        "\n",
        "X_train = X_train.astype('float32')\n",
        "X_test = X_test.astype('float32')\n",
        "\n",
        "X_train /= 255\n",
        "X_test /= 255"
      ]
    },
    {
      "cell_type": "code",
      "execution_count": null,
      "id": "878e39db-1326-4331-bd0d-6d651ac345a7",
      "metadata": {
        "id": "878e39db-1326-4331-bd0d-6d651ac345a7"
      },
      "outputs": [],
      "source": [
        "from tensorflow.keras.models import Sequential\n",
        "from tensorflow.keras.layers import Dense, Conv2D, Dropout, Flatten, MaxPooling2D\n",
        "\n",
        "def init():\n",
        "    model  =Sequential()\n",
        "    #model.add(Conv2D(28, kernel_size=(3, 3), input_shape = input_shape))\n",
        "    model.add(Conv2D(32, (3, 3), activation='relu', kernel_initializer='he_uniform', padding='same', input_shape=(32, 32, 3)))\n",
        "    model.add(MaxPooling2D(pool_size=(2,2)))\n",
        "    model.add(Flatten())\n",
        "    model.add(Dense(128, activation='relu'))\n",
        "    model.add(Dropout(0.2))\n",
        "    model.add(Dense(10, activation='softmax'))\n",
        "\n",
        "    model.compile(optimizer='adam', loss='categorical_crossentropy', metrics=['accuracy'])\n",
        "    #loss='mean_squared_error'\n",
        "    return model"
      ]
    },
    {
      "cell_type": "code",
      "execution_count": null,
      "id": "5607128d-76c9-4bf7-bcf5-84f282f166d6",
      "metadata": {
        "id": "5607128d-76c9-4bf7-bcf5-84f282f166d6"
      },
      "outputs": [],
      "source": [
        "def train(models):\n",
        "    losses = []\n",
        "    histories = []\n",
        "    for i in range(len(models)):\n",
        "        history = models[i].fit(x=X_train,y=y_train, epochs=1, validation_data=(X_test, y_test))\n",
        "        losses.append(round(history.history['loss'][-1], 4))\n",
        "        histories.append(history)\n",
        "    return models, losses, histories"
      ]
    },
    {
      "cell_type": "code",
      "execution_count": null,
      "id": "9a5984f5-6cfc-4d4d-b266-e93074ecfd67",
      "metadata": {
        "id": "9a5984f5-6cfc-4d4d-b266-e93074ecfd67"
      },
      "outputs": [],
      "source": [
        "# Depending on the Application the number of generations may or may not be fixed\n",
        "no_of_generations = 1\n",
        "\n",
        "# Must be set to more than two for crossover to work\n",
        "no_of_individuals = 2\n",
        "mutation_rate = 0.05\n",
        "individuals = []"
      ]
    },
    {
      "cell_type": "code",
      "execution_count": null,
      "id": "38550c3a-5c85-4d6d-aaca-79c2c45c889a",
      "metadata": {
        "id": "38550c3a-5c85-4d6d-aaca-79c2c45c889a"
      },
      "outputs": [],
      "source": [
        "#model = init()\n",
        "\n",
        "#model_history = model.fit(x=X_train,y=y_train, epochs=1, validation_data=(X_test, y_test), batch_size=64)"
      ]
    },
    {
      "cell_type": "code",
      "execution_count": null,
      "id": "4c7ff4a9-37c9-4aca-8b67-8d05aab980f0",
      "metadata": {
        "id": "4c7ff4a9-37c9-4aca-8b67-8d05aab980f0"
      },
      "outputs": [],
      "source": [
        "import random\n",
        "\n",
        "# Initialize Population\n",
        "def randomized_init():\n",
        "    model=Sequential()\n",
        "    \n",
        "    # Model always starts with one convolutional layer and one pooling later right after it\n",
        "    model.add(Conv2D(32, (3, 3), activation='relu', kernel_initializer='he_uniform', padding='same', input_shape=(32, 32, 3)))\n",
        "    model.add(MaxPooling2D(pool_size=(2,2)))\n",
        "    \n",
        "    # Randomize number of variable layers between the fixed layers, ranging between 0 and 5\n",
        "    numberofVariableLayers = random.randrange(0, 6)\n",
        "    \n",
        "    for i in range(numberofVariableLayers):\n",
        "        # Randomize whether to add Convolutional Layer or Max Pooling Layer\n",
        "        randomLayer = random.randrange(1)\n",
        "        \n",
        "        # Randomize strides from 1 to 3\n",
        "        randomStrides = random.randrange(1, 4)\n",
        "        \n",
        "        if(randomLayer == 0):\n",
        "            model.add(keras.layers.Conv2D(filters = 32, kernel_size = (3, 3), strides=randomStrides, padding='same', activation='relu', input_shape=(32,32,3)))\n",
        "            #model.add(Conv2D(32, (3, 3), activation='relu', kernel_initializer='he_uniform', padding='same', input_shape=(32, 32, 3)))\n",
        "        else:\n",
        "            model.add(MaxPooling2D(pool_size=(2,2)))\n",
        "    \n",
        "    # Model always ends with flatten, dense, dropout and dense\n",
        "    model.add(Flatten())\n",
        "    model.add(Dense(128, activation='relu'))\n",
        "    model.add(Dropout(0.2))\n",
        "    model.add(Dense(10, activation='softmax'))\n",
        "\n",
        "    model.compile(optimizer='adam', loss='categorical_crossentropy', metrics=['accuracy'])\n",
        "    #loss='mean_squared_error'\n",
        "    return model\n",
        "\n",
        "for i in range(no_of_individuals):\n",
        "    individuals.append(randomized_init())\n",
        "    \n",
        "#for model_randomized in individuals:\n",
        "#    print(model_randomized.summary())\n",
        "\n"
      ]
    },
    {
      "cell_type": "code",
      "execution_count": null,
      "id": "cf6b8edd-8580-4158-ae1f-6ebd75be2ce4",
      "metadata": {
        "id": "cf6b8edd-8580-4158-ae1f-6ebd75be2ce4"
      },
      "outputs": [],
      "source": [
        "#for generation in range(no_of_generations):\n",
        "#    print(f\"Generation: {generation}\")\n",
        "#    individuals, losses, histories = train(individuals)\n",
        "#    print(histories)"
      ]
    },
    {
      "cell_type": "code",
      "source": [
        "def crossover(individuals):\n",
        "    new_individuals = []\n",
        "    # Choose the two fittest ones\n",
        "    new_individuals.append(individuals[0])\n",
        "    new_individuals.append(individuals[1])\n",
        "\n",
        "    for i in range(0, len(individuals)):\n",
        "      # Pick two random individuals\n",
        "      random_individualA = random.randrange(0, len(individuals))\n",
        "      random_individualB = random.randrange(0, len(individuals))\n",
        "\n",
        "      # Pick two random numbers representing two random positions of layers between the 3rd (counting from the first layer), and the 5th (counting from last layer)\n",
        "      random_layerA = random.randrange(3, len(individuals[random_individualA].layers) - 4)\n",
        "      random_layerB = random.randrange(3, len(individuals[random_individualB].layers) - 4)\n",
        "\n",
        "      temp_gene = individuals[random_individualA].layers[random_layerA].get_weights()[1]\n",
        "      individuals[random_individualA].layers[random_layerA].get_weights()[1] = individuals[random_individualB].layers[random_layerB].get_weights()[1]\n",
        "      individuals[random_individualB].layers[random_layerB].get_weights()[1] = temp_gene\n",
        "\n",
        "      # Pick just one random individual from the pair of parents to survive into next generation\n",
        "      new_individual = random.choice([individuals[random_individualA], individuals[random_individualB]])\n",
        "\n",
        "      new_individuals.append(new_individual)\n",
        "\n",
        "    return new_individuals"
      ],
      "metadata": {
        "id": "R_zo5-6_6lWR"
      },
      "id": "R_zo5-6_6lWR",
      "execution_count": null,
      "outputs": []
    },
    {
      "cell_type": "code",
      "source": [
        "def mutate(individuals):\n",
        "    new_individual = []\n",
        "    # Mutate a random weight factor based on a mutation rate\n",
        "    for individual in individuals:\n",
        "      if (random.uniform(0, 1) < mutation_rate):\n",
        "        # Pick a random number representing a random position of a layer between the 3rd (counting from the first layer), and the 5th (counting from last layer)\n",
        "        random_layer_to_mutate = random.randrange(3, len(individual.layers) - 4)\n",
        "        individual.layers[random_layer_to_mutate].get_weights()[1] = individual.layers[random_layer_to_mutate].get_weights()[1] * random.uniform(-0.5, 0.5)\n",
        "        new_individual.append(individual)\n",
        "      else:\n",
        "        new_individual.append(individual)\n",
        "\n",
        "    return new_individual"
      ],
      "metadata": {
        "id": "ihh4oXx4_6wD"
      },
      "id": "ihh4oXx4_6wD",
      "execution_count": null,
      "outputs": []
    },
    {
      "cell_type": "code",
      "execution_count": null,
      "id": "8b4caecd-5ec7-48e6-9b40-a055f42a1415",
      "metadata": {
        "id": "8b4caecd-5ec7-48e6-9b40-a055f42a1415"
      },
      "outputs": [],
      "source": [
        "def evolve(individuals, losses):\n",
        "    sorted_by_losses_fitness_evaluation = sorted(range(len(losses)),key=lambda x:losses[x])\n",
        "    individuals = [individuals[i] for i in sorted_by_losses_fitness_evaluation]\n",
        "\n",
        "    #winners = individuals[:6]\n",
        "\n",
        "    new_individuals = crossover(individuals)\n",
        "\n",
        "    new_individuals = mutate(individuals)\n",
        "\n",
        "    return new_individuals"
      ]
    },
    {
      "cell_type": "code",
      "execution_count": null,
      "id": "67b9643c-efd4-4fdc-bcf4-0a347db4b27b",
      "metadata": {
        "colab": {
          "base_uri": "https://localhost:8080/",
          "height": 511
        },
        "id": "67b9643c-efd4-4fdc-bcf4-0a347db4b27b",
        "outputId": "3bbe7e4e-57d9-40d1-f9bd-cec6b5a28be1"
      },
      "outputs": [
        {
          "output_type": "stream",
          "name": "stdout",
          "text": [
            "1563/1563 [==============================] - 68s 43ms/step - loss: 1.7071 - accuracy: 0.3658 - val_loss: 1.3321 - val_accuracy: 0.5303\n",
            "1563/1563 [==============================] - 58s 37ms/step - loss: 1.5192 - accuracy: 0.4511 - val_loss: 1.2347 - val_accuracy: 0.5499\n"
          ]
        },
        {
          "output_type": "error",
          "ename": "AttributeError",
          "evalue": "ignored",
          "traceback": [
            "\u001b[0;31m---------------------------------------------------------------------------\u001b[0m",
            "\u001b[0;31mAttributeError\u001b[0m                            Traceback (most recent call last)",
            "\u001b[0;32m<ipython-input-48-627626625d58>\u001b[0m in \u001b[0;36m<module>\u001b[0;34m\u001b[0m\n\u001b[1;32m      2\u001b[0m     \u001b[0mindividuals\u001b[0m\u001b[0;34m,\u001b[0m \u001b[0mlosses\u001b[0m\u001b[0;34m,\u001b[0m \u001b[0mhistories\u001b[0m \u001b[0;34m=\u001b[0m \u001b[0mtrain\u001b[0m\u001b[0;34m(\u001b[0m\u001b[0mindividuals\u001b[0m\u001b[0;34m)\u001b[0m\u001b[0;34m\u001b[0m\u001b[0;34m\u001b[0m\u001b[0m\n\u001b[1;32m      3\u001b[0m \u001b[0;34m\u001b[0m\u001b[0m\n\u001b[0;32m----> 4\u001b[0;31m     \u001b[0mindividuals\u001b[0m \u001b[0;34m=\u001b[0m \u001b[0mevolve\u001b[0m\u001b[0;34m(\u001b[0m\u001b[0mindividuals\u001b[0m\u001b[0;34m,\u001b[0m \u001b[0mlosses\u001b[0m\u001b[0;34m)\u001b[0m\u001b[0;34m\u001b[0m\u001b[0;34m\u001b[0m\u001b[0m\n\u001b[0m",
            "\u001b[0;32m<ipython-input-47-6d636e2672f7>\u001b[0m in \u001b[0;36mevolve\u001b[0;34m(individuals, losses)\u001b[0m\n\u001b[1;32m      5\u001b[0m     \u001b[0;31m#winners = individuals[:6]\u001b[0m\u001b[0;34m\u001b[0m\u001b[0;34m\u001b[0m\u001b[0;34m\u001b[0m\u001b[0m\n\u001b[1;32m      6\u001b[0m \u001b[0;34m\u001b[0m\u001b[0m\n\u001b[0;32m----> 7\u001b[0;31m     \u001b[0mnew_individuals\u001b[0m \u001b[0;34m=\u001b[0m \u001b[0mcrossover\u001b[0m\u001b[0;34m(\u001b[0m\u001b[0mindividuals\u001b[0m\u001b[0;34m)\u001b[0m\u001b[0;34m\u001b[0m\u001b[0;34m\u001b[0m\u001b[0m\n\u001b[0m\u001b[1;32m      8\u001b[0m \u001b[0;34m\u001b[0m\u001b[0m\n\u001b[1;32m      9\u001b[0m     \u001b[0mnew_individuals\u001b[0m \u001b[0;34m=\u001b[0m \u001b[0mmutate\u001b[0m\u001b[0;34m(\u001b[0m\u001b[0mindividuals\u001b[0m\u001b[0;34m)\u001b[0m\u001b[0;34m\u001b[0m\u001b[0;34m\u001b[0m\u001b[0m\n",
            "\u001b[0;32m<ipython-input-45-859b8d4b77b9>\u001b[0m in \u001b[0;36mcrossover\u001b[0;34m(individuals)\u001b[0m\n\u001b[1;32m     11\u001b[0m \u001b[0;34m\u001b[0m\u001b[0m\n\u001b[1;32m     12\u001b[0m       \u001b[0;31m# Pick two random numbers representing two random positions of layers between the 3rd (counting from the first layer), and the 5th (counting from last layer)\u001b[0m\u001b[0;34m\u001b[0m\u001b[0;34m\u001b[0m\u001b[0;34m\u001b[0m\u001b[0m\n\u001b[0;32m---> 13\u001b[0;31m       \u001b[0mrandom_layerA\u001b[0m \u001b[0;34m=\u001b[0m \u001b[0mrandom\u001b[0m\u001b[0;34m.\u001b[0m\u001b[0mrandrange\u001b[0m\u001b[0;34m(\u001b[0m\u001b[0;36m3\u001b[0m\u001b[0;34m,\u001b[0m \u001b[0mlen\u001b[0m\u001b[0;34m(\u001b[0m\u001b[0mrandom_individualA\u001b[0m\u001b[0;34m.\u001b[0m\u001b[0mlayers\u001b[0m\u001b[0;34m)\u001b[0m \u001b[0;34m-\u001b[0m \u001b[0;36m4\u001b[0m\u001b[0;34m)\u001b[0m\u001b[0;34m\u001b[0m\u001b[0;34m\u001b[0m\u001b[0m\n\u001b[0m\u001b[1;32m     14\u001b[0m       \u001b[0mrandom_layerB\u001b[0m \u001b[0;34m=\u001b[0m \u001b[0mrandom\u001b[0m\u001b[0;34m.\u001b[0m\u001b[0mrandrange\u001b[0m\u001b[0;34m(\u001b[0m\u001b[0;36m3\u001b[0m\u001b[0;34m,\u001b[0m \u001b[0mlen\u001b[0m\u001b[0;34m(\u001b[0m\u001b[0mrandom_individualA\u001b[0m\u001b[0;34m.\u001b[0m\u001b[0mlayers\u001b[0m\u001b[0;34m)\u001b[0m \u001b[0;34m-\u001b[0m \u001b[0;36m4\u001b[0m\u001b[0;34m)\u001b[0m\u001b[0;34m\u001b[0m\u001b[0;34m\u001b[0m\u001b[0m\n\u001b[1;32m     15\u001b[0m \u001b[0;34m\u001b[0m\u001b[0m\n",
            "\u001b[0;31mAttributeError\u001b[0m: 'int' object has no attribute 'layers'"
          ]
        }
      ],
      "source": [
        "for generation in range(no_of_generations):\n",
        "    individuals, losses, histories = train(individuals)\n",
        "\n",
        "    individuals = evolve(individuals, losses)"
      ]
    }
  ],
  "metadata": {
    "kernelspec": {
      "display_name": "Python 3 (ipykernel)",
      "language": "python",
      "name": "python3"
    },
    "language_info": {
      "codemirror_mode": {
        "name": "ipython",
        "version": 3
      },
      "file_extension": ".py",
      "mimetype": "text/x-python",
      "name": "python",
      "nbconvert_exporter": "python",
      "pygments_lexer": "ipython3",
      "version": "3.10.6"
    },
    "colab": {
      "provenance": [],
      "include_colab_link": true
    }
  },
  "nbformat": 4,
  "nbformat_minor": 5
}